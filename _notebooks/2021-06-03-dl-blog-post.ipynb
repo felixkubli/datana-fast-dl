{
 "metadata": {
  "language_info": {
   "codemirror_mode": {
    "name": "ipython",
    "version": 3
   },
   "file_extension": ".py",
   "mimetype": "text/x-python",
   "name": "python",
   "nbconvert_exporter": "python",
   "pygments_lexer": "ipython3",
   "version": "3.8.3"
  },
  "orig_nbformat": 2,
  "kernelspec": {
   "name": "python383jvsc74a57bd0d9a5082d84f1c51186c9949ad63a1309c04015a2b409567273424f6cc35f00f5",
   "display_name": "Python 3.8.3 64-bit ('base': conda)"
  }
 },
 "nbformat": 4,
 "nbformat_minor": 2,
 "cells": [
  {
   "source": [
    "# Aufgabe 3\n",
    "> A example of fast ai\n",
    "\n",
    "- toc: true \n",
    "- badges: true\n",
    "- categories: [jupyter]\n",
    "- image: images/chart-preview.png"
   ],
   "cell_type": "markdown",
   "metadata": {}
  },
  {
   "source": [
    "## Fragen"
   ],
   "cell_type": "markdown",
   "metadata": {}
  },
  {
   "source": [
    "### Questionnaire Video 1\n",
    "\n",
    "1. Do you need these for deep learning?\n",
    "    - Lots of math T\n",
    "    - Lots of data T\n",
    "    - Lots of expensive computers T\n",
    "    - A PhD F\n",
    "2. Name five areas where deep learning is now the best in the world.\n",
    "    - Image recognition\n",
    "    - Text recognition\n",
    "    - Text translations\n",
    "    - Image generation\n",
    "    - game ai\n",
    "3. What was the name of the first device that was based on the principle of\n",
    "    the artificial neuron?\n",
    "    - a xor learner\n",
    "4. Based on the book of the same name, what are the requirements for parallel\n",
    "    distributed processing (PDP)?  \n",
    "    A set of processing units  \n",
    "    A state of activation  \n",
    "    An output function for each unit  \n",
    "    A pattern of connectivity among units  \n",
    "    A propagation rule for propagating patterns of activities through the network of connectivities  \n",
    "    An activation rule for combining the inputs impinging on a unit with the current state of that unit to produce an output for the unit  \n",
    "    A learning rule whereby patterns of connectivity are modified by experience  \n",
    "    An environment within which the system must operate  \n",
    "\n",
    "5. What were the two theoretical misunderstandings that held back the field\n",
    "    of neural networks?\n",
    "6. What is a GPU?\n",
    "    - a Graphical Processing Unit that has many cores and can calculate many things in parallel.\n",
    "7. Open a notebook and execute a cell containing: 1+1. What happens?\n",
    "    - 2 gets printed to the output.\n",
    "8. Follow through each cell of the stripped version of the notebook for this\n",
    "    chapter. Before executing each cell, guess what will happen.\n",
    "9. Complete the Jupyter Notebook online appendix.\n",
    "10. Why is it hard to use a traditional computer program to recognize images\n",
    "    in a photo?\n",
    "    - there are to many variables involved\n",
    "11. What did Samuel mean by “weight assignment”?\n",
    "    - We apply a weight to a function to determine its importance in the model.\n",
    "12. What term do we normally use in deep learning for what Samuel called\n",
    "    “weights”?\n",
    "    - a scalar value\n",
    "13. Draw a picture that summarizes Samuel’s view of a machine learning\n",
    "    model.\n",
    "14. Why is it hard to understand why a deep learning model makes a particular\n",
    "    prediction?\n",
    "    - because you would need to track every layer and every calculation and understand each of them.\n",
    "15. What is the name of the theorem that shows that a neural network can\n",
    "    solve any mathematical problem to any level of accuracy?\n",
    "16. What do you need in order to train a model?\n",
    "    - (labled) traing data\n",
    "17. How could a feedback loop impact the rollout of a predictive policing\n",
    "    model?\n",
    "18. Do we always have to use 224×224-pixel images with the cat recognition\n",
    "    model?\n",
    "    - no\n",
    "19. What is the difference between classification and regression?\n",
    "    - classification outcome: predicted class\n",
    "    - regression outcome: predicted value\n",
    "20. What is a validation set? What is a test set? Why do we need them?\n",
    "    - we need both. validation set, to see if we generalize enough and test set as a seperate set of date to validate our model, that doen't get used in the training.\n",
    "21. What will fastai do if you don’t provide a validation set?\n",
    "    - it takes a portion of the provided data as validation data\n"
   ],
   "cell_type": "markdown",
   "metadata": {}
  },
  {
   "source": [
    "### Questionnaire Video 2\n",
    "\n",
    "1. Can we always use a random sample for a validation set? Why or why\n",
    "    not?\n",
    "    - we take random samples, as long as the original data distribution is preserved, and dont train with them. Also, it depends.\n",
    "2. What is overfitting? Provide an example.\n",
    "    - when we test the model with test data, we get a significantly higher error, than with the training data, which means the model learnd the training data to well.\n",
    "3. What is a metric? How does it differ from “loss”?\n",
    "    - a metric is how you measure the success of the model, and the loss function is used to train the model.\n",
    "4. How can pretrained models help?\n",
    "    - some work has already been done, so if you need something similar to what the pretrained model does, you can use that model to improve upon it.\n",
    "5. What is the “head” of a model?\n",
    "    - \n",
    "6. What kinds of features do the early layers of a CNN find? How about the\n",
    "    later layers?\n",
    "7. Are image models only useful for photos?\n",
    "    - no, you can make other data into images\n",
    "8. What is an “architecture”?\n",
    "    - it is how the layers of the network are built\n",
    "9. What is segmentation?\n",
    "10. What is y_range used for? When do we need it?\n",
    "11. What are “hyperparameters”?\n",
    "12. What’s the best way to avoid failures when using AI in an organization?\n",
    "13. What is a p value?\n",
    "14. What is a prior?\n",
    "15. Provide an example of where the bear classification model might work\n",
    "    poorly in production, due to structural or style differences in the training\n",
    "    data.\n",
    "16. Where do text models currently have a major deficiency?\n",
    "17. What are possible negative societal implications of text generation models?\n",
    "18. In situations where a model might make mistakes, and those mistakes\n",
    "    could be harmful, what is a good alternative to automating a process?\n",
    "19. What kind of tabular data is deep learning particularly good at?\n",
    "20. What’s a key downside of directly using a deep learning model for recommendation\n",
    "    systems?\n",
    "21. What are the steps of the Drivetrain Approach?\n",
    "22. How do the steps of the Drivetrain Approach map to a recommendation\n",
    "    system?\n",
    "23. Create an image recognition model using data you curate, and deploy it\n",
    "    on the web.\n",
    "24. What is DataLoaders?\n",
    "25. What four things do we need to tell fastai to create DataLoaders?\n",
    "26. What does the splitter parameter to DataBlock do?\n",
    "27. How do we ensure a random split always gives the same validation set?"
   ],
   "cell_type": "markdown",
   "metadata": {}
  },
  {
   "source": [
    "## Was ich gelernt habe"
   ],
   "cell_type": "markdown",
   "metadata": {}
  },
  {
   "cell_type": "code",
   "execution_count": null,
   "metadata": {},
   "outputs": [],
   "source": [
    "Ich habe gelernt, dass es ein Tool namens fastai gibt, das einem das Deeplearning vereinfacht und einem einiges an Arbeit abnimmt.\n"
   ]
  }
 ]
}